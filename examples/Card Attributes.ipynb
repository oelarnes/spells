{
 "cells": [
  {
   "cell_type": "code",
   "execution_count": 1,
   "id": "590f0230-10ec-4f94-80b9-849f729a6746",
   "metadata": {},
   "outputs": [],
   "source": [
    "import json\n",
    "\n",
    "import polars as pl\n",
    "\n",
    "from spells import summon, ColName, ColType, ColSpec"
   ]
  },
  {
   "cell_type": "markdown",
   "id": "0794b049-7146-4530-a050-6a90d7bb6460",
   "metadata": {},
   "source": [
    "## Fun with card attributes\n",
    "\n",
    "This is a sample notebook demonstrating how to define custom card attributes and define functions of card attributes at the row level, which now has first-class support in Spells.\n",
    "\n",
    "### Base View Columns can Depend on Card Attributes via Card Context\n",
    "Suppose we want to find out how often drafters take the card with lowest mana value. We will need the mana value of the seen cards in `PACK_CARD` as well as the picked card `PICK`. We use function expression definitions with the `name` argument to achieve this in both cases.\n",
    "\n",
    "I'm going to make a template function with some extra columns for reasons that will be apparent soon. I suggest you read through these one by one and try to parse the intent of the `expr` field for each one. It might look intimidating if you're not familiar with this kind of expression language, but they mainly read off like a sentence. For example, the `seen_{attr}` column check if the `pack_card_{name}` column for a given name is positive, and if it is, it takes the `attr` value from the card_context. The `col_type` field tells Spells how to interpret the expression. For example, `pick_{attr}_sum` is a `PICK_SUM` column, so Spells knows to apply the expression function to the result of the `pick` field, then sum over all base rows for each group."
   ]
  },
  {
   "cell_type": "code",
   "execution_count": 2,
   "id": "28d31e25-56ec-4433-bc79-01a68c389549",
   "metadata": {},
   "outputs": [],
   "source": [
    "def attr_cols(attr):\n",
    "    return {\n",
    "        f\"seen_{attr}\": ColSpec(\n",
    "            col_type=ColType.NAME_SUM,\n",
    "            expr=(\n",
    "                lambda name, card_context: pl.when(pl.col(f\"pack_card_{name}\") > 0)\n",
    "                .then(card_context[name][attr])\n",
    "                .otherwise(None)\n",
    "            ),\n",
    "        ),\n",
    "        f\"pick_{attr}_sum\": ColSpec(\n",
    "            col_type=ColType.PICK_SUM,\n",
    "            expr=lambda name, card_context: card_context[name][attr],\n",
    "        ),\n",
    "        f\"least_{attr}_taken\": ColSpec(\n",
    "            col_type=ColType.PICK_SUM,\n",
    "            expr=(\n",
    "                lambda names: pl.col(f\"pick_{attr}_sum\")\n",
    "                <= pl.min_horizontal([pl.col(f\"seen_{attr}_{name}\") for name in names])\n",
    "            ),\n",
    "        ),\n",
    "        f\"least_{attr}_taken_rate\": ColSpec(\n",
    "            col_type=ColType.AGG,\n",
    "            expr=pl.col(f\"least_{attr}_taken\") / pl.col(\"num_taken\"),\n",
    "        ),\n",
    "        f\"greatest_{attr}_taken\": ColSpec(\n",
    "            col_type=ColType.PICK_SUM,\n",
    "            expr=(\n",
    "                lambda names: pl.col(f\"pick_{attr}_sum\")\n",
    "                >= pl.max_horizontal([pl.col(f\"seen_{attr}_{name}\") for name in names])\n",
    "            ),\n",
    "        ),\n",
    "        f\"greatest_{attr}_taken_rate\": ColSpec(\n",
    "            col_type=ColType.AGG,\n",
    "            expr=pl.col(f\"greatest_{attr}_taken\") / pl.col(\"num_taken\"),\n",
    "        ),\n",
    "        f\"pick_{attr}_mean\": ColSpec(\n",
    "            col_type=ColType.AGG, expr=pl.col(f\"pick_{attr}_sum\") / pl.col(\"num_taken\")\n",
    "        ),\n",
    "    }"
   ]
  },
  {
   "cell_type": "markdown",
   "id": "ff85b576-e884-409d-9a27-64df4b7cdd36",
   "metadata": {},
   "source": [
    "An extended version of the above function is importable in Spells using `from spells.extension import context_cols`, and columns to convert metrics to z-scores can be found in `stat_cols`"
   ]
  },
  {
   "cell_type": "code",
   "execution_count": 3,
   "id": "251a9d12-f8d5-499f-8a69-dc4a26c7d31a",
   "metadata": {},
   "outputs": [
    {
     "name": "stdout",
     "output_type": "stream",
     "text": [
      "shape: (4, 3)\n",
      "┌───────────────┬───────────┬─────────────────────────────┐\n",
      "│ player_cohort ┆ num_taken ┆ least_mana_value_taken_rate │\n",
      "│ ---           ┆ ---       ┆ ---                         │\n",
      "│ str           ┆ i32       ┆ f64                         │\n",
      "╞═══════════════╪═══════════╪═════════════════════════════╡\n",
      "│ Bottom        ┆ 1079884   ┆ 0.175012                    │\n",
      "│ Middle        ┆ 2515295   ┆ 0.17853                     │\n",
      "│ Other         ┆ 2184415   ┆ 0.174103                    │\n",
      "│ Top           ┆ 1303151   ┆ 0.182119                    │\n",
      "└───────────────┴───────────┴─────────────────────────────┘\n"
     ]
    }
   ],
   "source": [
    "ext = attr_cols(\"mana_value\")\n",
    "\n",
    "print(\n",
    "    summon(\n",
    "        \"DSK\",\n",
    "        columns=[\n",
    "            \"num_taken\",\n",
    "            \"least_mana_value_taken_rate\",\n",
    "        ],\n",
    "        group_by=[\"player_cohort\"],\n",
    "        extensions=ext,\n",
    "    )\n",
    ")"
   ]
  },
  {
   "cell_type": "markdown",
   "id": "93fd225f-634d-4e2f-b302-f59092e9132a",
   "metadata": {},
   "source": [
    "As expected, the best players take cheap cards (slightly) more often!"
   ]
  },
  {
   "cell_type": "markdown",
   "id": "1f427cd9-4ebf-4bbb-a491-e8bf4d1198cf",
   "metadata": {},
   "source": [
    "### Feeding Metrics Back In\n",
    "\n",
    "Next, we'll demonstrate how to feed calculated card metrics back in for use in custom columns, using the `card_context` parameter, which accepts a name-indexed dataframe. We'll calculate gp_wr, then use it to see the average gp_wr selected by cohort."
   ]
  },
  {
   "cell_type": "code",
   "execution_count": 4,
   "id": "714d3c1f-b91a-4d8f-994a-d7c897c55d25",
   "metadata": {},
   "outputs": [
    {
     "name": "stdout",
     "output_type": "stream",
     "text": [
      "shape: (4, 2)\n",
      "┌───────────────┬─────────────────┐\n",
      "│ player_cohort ┆ pick_gp_wr_mean │\n",
      "│ ---           ┆ ---             │\n",
      "│ str           ┆ f64             │\n",
      "╞═══════════════╪═════════════════╡\n",
      "│ Bottom        ┆ 0.537761        │\n",
      "│ Middle        ┆ 0.538843        │\n",
      "│ Other         ┆ 0.537782        │\n",
      "│ Top           ┆ 0.539812        │\n",
      "└───────────────┴─────────────────┘\n"
     ]
    }
   ],
   "source": [
    "gp_wr = summon(\"FDN\", columns=[ColName.GP_WR])\n",
    "\n",
    "ext = attr_cols(\"gp_wr\")\n",
    "\n",
    "print(\n",
    "    summon(\n",
    "        \"FDN\",\n",
    "        columns=[\"pick_gp_wr_mean\"],\n",
    "        group_by=[\"player_cohort\"],\n",
    "        extensions=ext,\n",
    "        card_context=gp_wr,\n",
    "    )\n",
    ")"
   ]
  },
  {
   "cell_type": "markdown",
   "id": "11b750c4-87a9-4b18-bcfc-c55508011335",
   "metadata": {},
   "source": [
    "Using both paradigms, we can see how often players in each group took the highest-ranked card by gp_wr for early picks, following Sierkovitz (https://threadreaderapp.com/thread/1864654591545008434.html). Here I do p1p1 but you can just tweak the filter or add groups to see the full distributions."
   ]
  },
  {
   "cell_type": "code",
   "execution_count": 5,
   "id": "e33b4eb7-c8c3-46a2-9e3b-c1b657845462",
   "metadata": {},
   "outputs": [
    {
     "name": "stdout",
     "output_type": "stream",
     "text": [
      "shape: (1, 4)\n",
      "┌───────────┬────────────┬───────────────────────────┬─────────────────┐\n",
      "│ expansion ┆ num_drafts ┆ greatest_gp_wr_taken_rate ┆ picked_match_wr │\n",
      "│ ---       ┆ ---        ┆ ---                       ┆ ---             │\n",
      "│ str       ┆ i32        ┆ f64                       ┆ f64             │\n",
      "╞═══════════╪════════════╪═══════════════════════════╪═════════════════╡\n",
      "│ FDN       ┆ 132430     ┆ 0.336306                  ┆ 0.546273        │\n",
      "└───────────┴────────────┴───────────────────────────┴─────────────────┘\n"
     ]
    }
   ],
   "source": [
    "print(\n",
    "    summon(\n",
    "        \"FDN\",\n",
    "        columns=[\"num_drafts\", \"greatest_gp_wr_taken_rate\", \"picked_match_wr\"],\n",
    "        group_by=[\"expansion\"],\n",
    "        extensions=ext,\n",
    "        filter_spec={\n",
    "            \"$and\": [{\"lhs\": \"pick_num\", \"op\": \"<=\", \"rhs\": 1}, {\"pack_num\": 1}]\n",
    "        },\n",
    "        card_context=gp_wr,\n",
    "    )\n",
    ")"
   ]
  },
  {
   "cell_type": "markdown",
   "id": "26a538b4-9ab3-4152-ab15-5619a40b2c5c",
   "metadata": {},
   "source": [
    "Curiously, the value is quite a bit higher for DSK. It's interesting to break out by cohort as well."
   ]
  },
  {
   "cell_type": "code",
   "execution_count": 6,
   "id": "6f2fbdd7-a455-4be9-bd6c-d7cc0aa0eb47",
   "metadata": {},
   "outputs": [
    {
     "name": "stdout",
     "output_type": "stream",
     "text": [
      "shape: (4, 4)\n",
      "┌───────────────┬────────────┬───────────────────────────┬─────────────────┐\n",
      "│ player_cohort ┆ num_drafts ┆ greatest_gp_wr_taken_rate ┆ picked_match_wr │\n",
      "│ ---           ┆ ---        ┆ ---                       ┆ ---             │\n",
      "│ str           ┆ i32        ┆ f64                       ┆ f64             │\n",
      "╞═══════════════╪════════════╪═══════════════════════════╪═════════════════╡\n",
      "│ Bottom        ┆ 25883      ┆ 0.368582                  ┆ 0.464428        │\n",
      "│ Middle        ┆ 60200      ┆ 0.414784                  ┆ 0.542797        │\n",
      "│ Other         ┆ 52384      ┆ 0.369674                  ┆ 0.539835        │\n",
      "│ Top           ┆ 31197      ┆ 0.436837                  ┆ 0.614636        │\n",
      "└───────────────┴────────────┴───────────────────────────┴─────────────────┘\n"
     ]
    }
   ],
   "source": [
    "gp_wr = summon(\"DSK\", columns=[ColName.GP_WR])\n",
    "print(\n",
    "    summon(\n",
    "        \"DSK\",\n",
    "        columns=[\"num_drafts\", \"greatest_gp_wr_taken_rate\", \"picked_match_wr\"],\n",
    "        group_by=[\"player_cohort\"],\n",
    "        extensions=ext,\n",
    "        filter_spec={\n",
    "            \"$and\": [{\"lhs\": \"pick_num\", \"op\": \"<=\", \"rhs\": 1}, {\"pack_num\": 1}]\n",
    "        },\n",
    "        card_context=gp_wr,\n",
    "    )\n",
    ")"
   ]
  },
  {
   "cell_type": "markdown",
   "id": "56456f00-412c-413c-8cac-5ac8a65a450d",
   "metadata": {},
   "source": [
    "Let's do the same thing with DEq, my custom card metric. We'll use the base version for simplicity (i.e. without the usual bias and metagame adjustments)."
   ]
  },
  {
   "cell_type": "code",
   "execution_count": 7,
   "id": "dbf22604-af8e-43c9-ba11-42589fe1fe05",
   "metadata": {},
   "outputs": [
    {
     "name": "stdout",
     "output_type": "stream",
     "text": [
      "shape: (4, 2)\n",
      "┌───────────────┬──────────────────────────────┐\n",
      "│ player_cohort ┆ greatest_deq_base_taken_rate │\n",
      "│ ---           ┆ ---                          │\n",
      "│ str           ┆ f64                          │\n",
      "╞═══════════════╪══════════════════════════════╡\n",
      "│ Bottom        ┆ 0.521964                     │\n",
      "│ Middle        ┆ 0.571495                     │\n",
      "│ Other         ┆ 0.528444                     │\n",
      "│ Top           ┆ 0.593935                     │\n",
      "└───────────────┴──────────────────────────────┘\n"
     ]
    }
   ],
   "source": [
    "ext = {\n",
    "    \"deq_base\": ColSpec(\n",
    "        col_type=ColType.AGG,\n",
    "        expr=(pl.col(\"gp_wr_excess\") + 0.03 * (1 - (pl.col(\"ata\") - 1) / 14).pow(2))\n",
    "        * pl.col(\"pct_gp\"),\n",
    "    ),\n",
    "}\n",
    "\n",
    "deq = summon(\n",
    "    \"DSK\", columns=[\"deq_base\"], filter_spec={\"player_cohort\": \"Top\"}, extensions=ext\n",
    ")\n",
    "\n",
    "ext.update(attr_cols(\"deq_base\"))\n",
    "\n",
    "print(\n",
    "    summon(\n",
    "        \"DSK\",\n",
    "        columns=[\"greatest_deq_base_taken_rate\"],\n",
    "        group_by=[\"player_cohort\"],\n",
    "        extensions=ext,\n",
    "        filter_spec={\n",
    "            \"$and\": [{\"lhs\": \"pick_num\", \"op\": \"<=\", \"rhs\": 1}, {\"pack_num\": 1}]\n",
    "        },\n",
    "        card_context=deq,\n",
    "    )\n",
    ")"
   ]
  },
  {
   "cell_type": "markdown",
   "id": "400330ea-78e0-4d0a-af14-1d8347750c81",
   "metadata": {},
   "source": [
    "This is quite promising for the hypothesis that DEq models card quality, although tmhere is still much work to understand the implication of the use of the top player ATA."
   ]
  },
  {
   "cell_type": "markdown",
   "id": "248a215e-d431-46a2-9623-c01f3f2cd136",
   "metadata": {},
   "source": [
    "### Custom Card Attributes in Card Context\n",
    "\n",
    "Lastly, let's create a custom card attribute and use it to define custom columns as well. Let's check for the keyword \"Flying\". I don't have a built-in for it, but I provide the full json text which can be parsed as shown. Note that unlike base view columns, custom `CARD_ATTR` columns should not use `name` and `card_context`, but polars expressions instead. We'll calculate how often a player takes a card with flying when it is available.\n",
    "\n",
    "Note that `\"has_flying\"` is available in card_context without passing it in as such. Since it is a provided `CARD_ATTR`, it is accessible on `card_context` automatically."
   ]
  },
  {
   "cell_type": "code",
   "execution_count": 8,
   "id": "c883db9d-0b92-45bc-b6ad-da3e80a9949a",
   "metadata": {},
   "outputs": [
    {
     "name": "stdout",
     "output_type": "stream",
     "text": [
      "shape: (4, 2)\n",
      "┌───────────────┬───────────────────────┐\n",
      "│ player_cohort ┆ has_flying_taken_rate │\n",
      "│ ---           ┆ ---                   │\n",
      "│ str           ┆ f64                   │\n",
      "╞═══════════════╪═══════════════════════╡\n",
      "│ Bottom        ┆ 0.166631              │\n",
      "│ Middle        ┆ 0.155851              │\n",
      "│ Other         ┆ 0.163145              │\n",
      "│ Top           ┆ 0.148893              │\n",
      "└───────────────┴───────────────────────┘\n"
     ]
    }
   ],
   "source": [
    "from spells.extension import context_cols\n",
    "\n",
    "ext = {\n",
    "    \"has_flying\": ColSpec(\n",
    "        col_type=ColType.CARD_ATTR,\n",
    "        expr=pl.col(\"card_json\").map_elements(\n",
    "            lambda text: \"Flying\" in json.loads(text).get(\"keywords\", []),\n",
    "            return_dtype=pl.Boolean,\n",
    "        ),\n",
    "        version=\"1\",  # use alongside map_elements to use the local cache\n",
    "    ),\n",
    "    \"greatest_has_flying_seen\": ColSpec(\n",
    "        col_type=ColType.PICK_SUM,\n",
    "        expr=lambda names: pl.max_horizontal(\n",
    "            [pl.col(f\"seen_has_flying_{name}\") for name in names]\n",
    "        ),\n",
    "    ),\n",
    "    \"has_flying_taken_rate\": ColSpec(\n",
    "        col_type=ColType.AGG,\n",
    "        expr=pl.col(\"pick_has_flying_sum\") / pl.col(\"greatest_has_flying_seen\"),\n",
    "    ),\n",
    "}\n",
    "\n",
    "ext.update(context_cols(\"has_flying\", silent=True))\n",
    "\n",
    "print(\n",
    "    summon(\n",
    "        \"DSK\",\n",
    "        columns=[\"has_flying_taken_rate\"],\n",
    "        group_by=[\"player_cohort\"],\n",
    "        extensions=ext,\n",
    "    )\n",
    ")"
   ]
  },
  {
   "cell_type": "markdown",
   "id": "c4af6a9b-1bf0-439c-bb79-9dd18f86d27f",
   "metadata": {},
   "source": [
    "It seems top players know that birds aren't real. Let's check our work a bit. The rate should be `1.0` for flying creatures."
   ]
  },
  {
   "cell_type": "code",
   "execution_count": 9,
   "id": "d53bab86-4031-44ba-8ead-e3e6d998ed02",
   "metadata": {},
   "outputs": [
    {
     "name": "stdout",
     "output_type": "stream",
     "text": [
      "shape: (10, 4)\n",
      "┌──────────────────────┬────────────┬───────────────────────┬───────────┐\n",
      "│ name                 ┆ has_flying ┆ has_flying_taken_rate ┆ num_taken │\n",
      "│ ---                  ┆ ---        ┆ ---                   ┆ ---       │\n",
      "│ str                  ┆ bool       ┆ f64                   ┆ i32       │\n",
      "╞══════════════════════╪════════════╪═══════════════════════╪═══════════╡\n",
      "│ Abhorrent Oculus     ┆ true       ┆ 1.0                   ┆ 4700      │\n",
      "│ Doomsday Excruciator ┆ true       ┆ 1.0                   ┆ 6058      │\n",
      "│ Erratic Apparition   ┆ true       ┆ 1.0                   ┆ 43464     │\n",
      "│ Fear of Abduction    ┆ true       ┆ 1.0                   ┆ 18970     │\n",
      "│ Fear of Falling      ┆ true       ┆ 1.0                   ┆ 20719     │\n",
      "│ Fear of Infinity     ┆ true       ┆ 1.0                   ┆ 18368     │\n",
      "│ Fear of Isolation    ┆ true       ┆ 1.0                   ┆ 25767     │\n",
      "│ Friendly Ghost       ┆ true       ┆ 1.0                   ┆ 45337     │\n",
      "│ Ghostly Dancers      ┆ true       ┆ 1.0                   ┆ 9451      │\n",
      "│ Ghostly Keybearer    ┆ true       ┆ 1.0                   ┆ 17806     │\n",
      "└──────────────────────┴────────────┴───────────────────────┴───────────┘\n"
     ]
    }
   ],
   "source": [
    "print(\n",
    "    summon(\n",
    "        \"DSK\",\n",
    "        columns=[\"has_flying\", \"has_flying_taken_rate\", \"num_taken\"],\n",
    "        extensions=ext,\n",
    "    )\n",
    "    .sort(\"has_flying\", descending=True)\n",
    "    .head(10)\n",
    ")"
   ]
  },
  {
   "cell_type": "markdown",
   "id": "76117be3-768d-4606-91c1-f7b4ce4bd72e",
   "metadata": {},
   "source": [
    "### Multiple Sets at Once\n",
    "\n",
    "We can even analyze multiple sets, and group by expansion to feed context back in. Let's repeat the GP WR analysis over multiple sets:"
   ]
  },
  {
   "cell_type": "code",
   "execution_count": 10,
   "id": "7fe1de3d-a20d-4740-b2d5-a16a1bbe0a4f",
   "metadata": {},
   "outputs": [
    {
     "name": "stdout",
     "output_type": "stream",
     "text": [
      "shape: (4, 4)\n",
      "┌───────────────┬────────────┬───────────────────────────┬─────────────────┐\n",
      "│ player_cohort ┆ num_drafts ┆ greatest_gp_wr_taken_rate ┆ picked_match_wr │\n",
      "│ ---           ┆ ---        ┆ ---                       ┆ ---             │\n",
      "│ str           ┆ i32        ┆ f64                       ┆ f64             │\n",
      "╞═══════════════╪════════════╪═══════════════════════════╪═════════════════╡\n",
      "│ Bottom        ┆ 143513     ┆ 0.314543                  ┆ 0.463525        │\n",
      "│ Middle        ┆ 313756     ┆ 0.351066                  ┆ 0.543233        │\n",
      "│ Other         ┆ 311412     ┆ 0.314304                  ┆ 0.542417        │\n",
      "│ Top           ┆ 175771     ┆ 0.376888                  ┆ 0.616455        │\n",
      "└───────────────┴────────────┴───────────────────────────┴─────────────────┘\n"
     ]
    }
   ],
   "source": [
    "ext = attr_cols(\"gp_wr\")\n",
    "sets = [\"DSK\", \"BLB\", \"FDN\", \"MH3\", \"OTJ\", \"MKM\"]\n",
    "\n",
    "gp_wr = summon(sets, group_by=[\"expansion\", \"name\"], columns=[ColName.GP_WR])\n",
    "print(\n",
    "    summon(\n",
    "        sets,\n",
    "        columns=[\"num_drafts\", \"greatest_gp_wr_taken_rate\", \"picked_match_wr\"],\n",
    "        group_by=[\"player_cohort\"],\n",
    "        extensions=ext,\n",
    "        filter_spec={\n",
    "            \"$and\": [{\"lhs\": \"pick_num\", \"op\": \"<=\", \"rhs\": 1}, {\"pack_num\": 1}]\n",
    "        },\n",
    "        card_context=gp_wr,\n",
    "    )\n",
    ")"
   ]
  },
  {
   "cell_type": "markdown",
   "id": "9d0a922f-f1c3-430b-a0df-703397b872f0",
   "metadata": {},
   "source": [
    "and DEq, because I'm curious and haven't seen it before."
   ]
  },
  {
   "cell_type": "code",
   "execution_count": null,
   "id": "cbab170c-bd44-4293-b92c-22c134591b82",
   "metadata": {},
   "outputs": [],
   "source": [
    "ext = {\n",
    "    \"deq_base\": ColSpec(\n",
    "        col_type=ColType.AGG,\n",
    "        expr=(pl.col(\"gp_wr_excess\") + 0.03 * (1 - (pl.col(\"ata\") - 1) / 14).pow(2))\n",
    "        * pl.col(\"pct_gp\"),\n",
    "    ),\n",
    "}\n",
    "\n",
    "deq = summon(\n",
    "    sets,\n",
    "    columns=[\"deq_base\"],\n",
    "    group_by=[\"expansion\", \"name\"],\n",
    "    filter_spec={\"player_cohort\": \"Top\"},\n",
    "    extensions=ext,\n",
    ")\n",
    "\n",
    "ext.update(attr_cols(\"deq_base\"))\n",
    "\n",
    "print(\n",
    "    summon(\n",
    "        sets,\n",
    "        columns=[\"greatest_deq_base_taken_rate\"],\n",
    "        group_by=[\"player_cohort\"],\n",
    "        extensions=ext,\n",
    "        filter_spec={\n",
    "            \"$and\": [{\"lhs\": \"pick_num\", \"op\": \"<=\", \"rhs\": 1}, {\"pack_num\": 1}]\n",
    "        },\n",
    "        card_context=deq,\n",
    "    )\n",
    ")"
   ]
  }
 ],
 "metadata": {
  "kernelspec": {
   "display_name": "Python 3 (ipykernel)",
   "language": "python",
   "name": "python3"
  },
  "language_info": {
   "codemirror_mode": {
    "name": "ipython",
    "version": 3
   },
   "file_extension": ".py",
   "mimetype": "text/x-python",
   "name": "python",
   "nbconvert_exporter": "python",
   "pygments_lexer": "ipython3",
   "version": "3.11.2"
  }
 },
 "nbformat": 4,
 "nbformat_minor": 5
}
