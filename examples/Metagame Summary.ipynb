{
 "cells": [
  {
   "cell_type": "code",
   "execution_count": 1,
   "id": "eb0be37f-77ba-4615-b568-4efb8b082fb7",
   "metadata": {},
   "outputs": [],
   "source": [
    "import polars as pl\n",
    "\n",
    "from spells import summon, ColName, ColType, ColSpec"
   ]
  },
  {
   "cell_type": "markdown",
   "id": "857a90b7-c717-45ce-951f-3202ecf6d916",
   "metadata": {},
   "source": [
    "### Metagame Summary\n",
    "\n",
    "In this notebook I'll demonstrate the metagame summaries I like to look at, along the lines of the \"Deck Color\" page on 17Lands.com. First, lets generate that table. I like to only look at the top player cohort to judge what is effective for a winning strategy. Here are recipes for the basic charts"
   ]
  },
  {
   "cell_type": "code",
   "execution_count": 2,
   "id": "3d36fd8a-4a8e-4f78-b8d8-0248539ec7ff",
   "metadata": {},
   "outputs": [
    {
     "name": "stdout",
     "output_type": "stream",
     "text": [
      "shape: (5, 4)\n",
      "┌────────────┬─────────┬───────────┬──────────┐\n",
      "│ num_colors ┆ num_won ┆ num_games ┆ game_wr  │\n",
      "│ ---        ┆ ---     ┆ ---       ┆ ---      │\n",
      "│ u32        ┆ u32     ┆ u32       ┆ f64      │\n",
      "╞════════════╪═════════╪═══════════╪══════════╡\n",
      "│ 1          ┆ 1803    ┆ 2873      ┆ 0.627567 │\n",
      "│ 2          ┆ 112978  ┆ 182958    ┆ 0.617508 │\n",
      "│ 3          ┆ 12108   ┆ 20721     ┆ 0.584335 │\n",
      "│ 4          ┆ 337     ┆ 600       ┆ 0.561667 │\n",
      "│ 5          ┆ 17      ┆ 37        ┆ 0.459459 │\n",
      "└────────────┴─────────┴───────────┴──────────┘\n",
      "shape: (10, 4)\n",
      "┌─────────────┬─────────┬───────────┬──────────┐\n",
      "│ main_colors ┆ num_won ┆ num_games ┆ game_wr  │\n",
      "│ ---         ┆ ---     ┆ ---       ┆ ---      │\n",
      "│ str         ┆ u32     ┆ u32       ┆ f64      │\n",
      "╞═════════════╪═════════╪═══════════╪══════════╡\n",
      "│ BG          ┆ 9587    ┆ 15624     ┆ 0.613607 │\n",
      "│ BR          ┆ 11486   ┆ 18595     ┆ 0.617693 │\n",
      "│ RG          ┆ 16179   ┆ 26464     ┆ 0.611359 │\n",
      "│ UB          ┆ 4104    ┆ 6945      ┆ 0.590929 │\n",
      "│ UG          ┆ 16478   ┆ 26363     ┆ 0.625043 │\n",
      "│ UR          ┆ 6821    ┆ 11537     ┆ 0.591228 │\n",
      "│ WB          ┆ 5632    ┆ 9460      ┆ 0.595349 │\n",
      "│ WG          ┆ 4287    ┆ 7219      ┆ 0.59385  │\n",
      "│ WR          ┆ 18239   ┆ 28903     ┆ 0.631042 │\n",
      "│ WU          ┆ 20165   ┆ 31848     ┆ 0.633164 │\n",
      "└─────────────┴─────────┴───────────┴──────────┘\n"
     ]
    }
   ],
   "source": [
    "filter_spec = {ColName.PLAYER_COHORT: \"Top\"}\n",
    "columns = [ColName.NUM_WON, ColName.NUM_GAMES, ColName.GAME_WR]\n",
    "\n",
    "print(\n",
    "    summon(\n",
    "        \"DSK\", columns=columns, group_by=[ColName.NUM_COLORS], filter_spec=filter_spec\n",
    "    )\n",
    ")\n",
    "\n",
    "two_color_filter = {\"$and\": [{\"num_colors\": 2}, filter_spec]}\n",
    "print(\n",
    "    summon(\n",
    "        \"DSK\",\n",
    "        columns=columns,\n",
    "        group_by=[ColName.MAIN_COLORS],\n",
    "        filter_spec=two_color_filter,\n",
    "    )\n",
    ")"
   ]
  },
  {
   "cell_type": "markdown",
   "id": "c74fc67c-a2ce-4200-9395-45c4a4acea8f",
   "metadata": {},
   "source": [
    "You'll note the winrates are higher than the \"Top\" cohort on 17Lands. That's because we are compelled to use an in-sample cohort. We might want some additional context about the archetypes, like how often the decks splash, the average number of lands, and the average converted mana cost. Let's add all three. There isn't a `GAME_SUM` column built in for splash count, so we'll define one."
   ]
  },
  {
   "cell_type": "code",
   "execution_count": 3,
   "id": "c6b81a2e-2c9c-42c7-ad17-6ecdf331336f",
   "metadata": {},
   "outputs": [
    {
     "name": "stdout",
     "output_type": "stream",
     "text": [
      "shape: (5, 5)\n",
      "┌────────────┬─────────┬───────────┬──────────┬─────────────┐\n",
      "│ num_colors ┆ num_won ┆ num_games ┆ game_wr  ┆ splash_rate │\n",
      "│ ---        ┆ ---     ┆ ---       ┆ ---      ┆ ---         │\n",
      "│ u32        ┆ u32     ┆ u32       ┆ f64      ┆ f64         │\n",
      "╞════════════╪═════════╪═══════════╪══════════╪═════════════╡\n",
      "│ 1          ┆ 1803    ┆ 2873      ┆ 0.627567 ┆ 0.788723    │\n",
      "│ 2          ┆ 112978  ┆ 182958    ┆ 0.617508 ┆ 0.306595    │\n",
      "│ 3          ┆ 12108   ┆ 20721     ┆ 0.584335 ┆ 0.15757     │\n",
      "│ 4          ┆ 337     ┆ 600       ┆ 0.561667 ┆ 0.526667    │\n",
      "│ 5          ┆ 17      ┆ 37        ┆ 0.459459 ┆ 0.0         │\n",
      "└────────────┴─────────┴───────────┴──────────┴─────────────┘\n",
      "shape: (10, 5)\n",
      "┌─────────────┬─────────┬───────────┬──────────┬─────────────┐\n",
      "│ main_colors ┆ num_won ┆ num_games ┆ game_wr  ┆ splash_rate │\n",
      "│ ---         ┆ ---     ┆ ---       ┆ ---      ┆ ---         │\n",
      "│ str         ┆ u32     ┆ u32       ┆ f64      ┆ f64         │\n",
      "╞═════════════╪═════════╪═══════════╪══════════╪═════════════╡\n",
      "│ BG          ┆ 9587    ┆ 15624     ┆ 0.613607 ┆ 0.509665    │\n",
      "│ BR          ┆ 11486   ┆ 18595     ┆ 0.617693 ┆ 0.214843    │\n",
      "│ RG          ┆ 16179   ┆ 26464     ┆ 0.611359 ┆ 0.391362    │\n",
      "│ UB          ┆ 4104    ┆ 6945      ┆ 0.590929 ┆ 0.379554    │\n",
      "│ UG          ┆ 16478   ┆ 26363     ┆ 0.625043 ┆ 0.504609    │\n",
      "│ UR          ┆ 6821    ┆ 11537     ┆ 0.591228 ┆ 0.275202    │\n",
      "│ WB          ┆ 5632    ┆ 9460      ┆ 0.595349 ┆ 0.275581    │\n",
      "│ WG          ┆ 4287    ┆ 7219      ┆ 0.59385  ┆ 0.342568    │\n",
      "│ WR          ┆ 18239   ┆ 28903     ┆ 0.631042 ┆ 0.079438    │\n",
      "│ WU          ┆ 20165   ┆ 31848     ┆ 0.633164 ┆ 0.228868    │\n",
      "└─────────────┴─────────┴───────────┴──────────┴─────────────┘\n"
     ]
    }
   ],
   "source": [
    "ext = {\n",
    "    \"num_splash\": ColSpec(col_type=ColType.GAME_SUM, expr=pl.col(ColName.HAS_SPLASH)),\n",
    "    \"splash_rate\": ColSpec(\n",
    "        col_type=ColType.AGG, expr=pl.col(\"num_splash\") / pl.col(ColName.NUM_GAMES)\n",
    "    ),\n",
    "}\n",
    "print(\n",
    "    by_num_colors_df := summon(\n",
    "        \"DSK\",\n",
    "        columns=columns + [\"splash_rate\"],\n",
    "        group_by=[ColName.NUM_COLORS],\n",
    "        filter_spec=filter_spec,\n",
    "        extensions=ext,\n",
    "    )\n",
    ")\n",
    "print(\n",
    "    by_color_pair_df := summon(\n",
    "        \"DSK\",\n",
    "        columns=columns + [\"splash_rate\"],\n",
    "        group_by=[\"main_colors\"],\n",
    "        filter_spec=two_color_filter,\n",
    "        extensions=ext,\n",
    "    )\n",
    ")"
   ]
  },
  {
   "cell_type": "markdown",
   "id": "d1c97716-a194-48f2-8c99-0d1141b0b863",
   "metadata": {},
   "source": [
    "Columns for the average number of lands and the average mana value of spells are also included with Spells, and that might be interesting here:"
   ]
  },
  {
   "cell_type": "code",
   "execution_count": 4,
   "id": "3bed9617-988b-40c9-9b43-1fa57d46c39c",
   "metadata": {},
   "outputs": [
    {
     "name": "stdout",
     "output_type": "stream",
     "text": [
      "shape: (10, 7)\n",
      "┌─────────────┬─────────┬───────────┬──────────┬─────────────┬────────────────┬────────────────────┐\n",
      "│ main_colors ┆ num_won ┆ num_games ┆ game_wr  ┆ splash_rate ┆ deck_lands_avg ┆ deck_mana_value_av │\n",
      "│ ---         ┆ ---     ┆ ---       ┆ ---      ┆ ---         ┆ ---            ┆ g                  │\n",
      "│ str         ┆ u32     ┆ u32       ┆ f64      ┆ f64         ┆ f64            ┆ ---                │\n",
      "│             ┆         ┆           ┆          ┆             ┆                ┆ f64                │\n",
      "╞═════════════╪═════════╪═══════════╪══════════╪═════════════╪════════════════╪════════════════════╡\n",
      "│ BG          ┆ 19447   ┆ 31416     ┆ 0.619016 ┆ 0.487363    ┆ 16.775306      ┆ 2.852575           │\n",
      "│ BR          ┆ 9771    ┆ 15515     ┆ 0.629778 ┆ 0.1534      ┆ 16.714663      ┆ 2.732122           │\n",
      "│ RG          ┆ 6235    ┆ 10421     ┆ 0.598311 ┆ 0.486038    ┆ 16.811534      ┆ 2.829357           │\n",
      "│ UB          ┆ 7610    ┆ 12480     ┆ 0.609776 ┆ 0.332212    ┆ 16.828686      ┆ 3.099893           │\n",
      "│ UG          ┆ 13810   ┆ 22348     ┆ 0.617952 ┆ 0.416905    ┆ 16.784544      ┆ 2.861621           │\n",
      "│ UR          ┆ 4448    ┆ 7302      ┆ 0.609148 ┆ 0.193098    ┆ 16.547795      ┆ 2.897793           │\n",
      "│ WB          ┆ 12253   ┆ 19954     ┆ 0.614062 ┆ 0.339531    ┆ 16.822341      ┆ 2.8982             │\n",
      "│ WG          ┆ 15112   ┆ 24373     ┆ 0.62003  ┆ 0.408198    ┆ 16.736676      ┆ 2.712998           │\n",
      "│ WR          ┆ 9178    ┆ 14836     ┆ 0.61863  ┆ 0.31983     ┆ 16.530399      ┆ 2.512756           │\n",
      "│ WU          ┆ 3407    ┆ 5679      ┆ 0.59993  ┆ 0.35464     ┆ 16.795563      ┆ 2.908975           │\n",
      "└─────────────┴─────────┴───────────┴──────────┴─────────────┴────────────────┴────────────────────┘\n"
     ]
    }
   ],
   "source": [
    "print(\n",
    "    summon(\n",
    "        \"BLB\",\n",
    "        columns=[\n",
    "            ColName.NUM_WON,\n",
    "            ColName.NUM_GAMES,\n",
    "            ColName.GAME_WR,\n",
    "            \"splash_rate\",\n",
    "            ColName.DECK_LANDS_AVG,\n",
    "            ColName.DECK_MANA_VALUE_AVG,\n",
    "        ],\n",
    "        group_by=[ColName.MAIN_COLORS],\n",
    "        filter_spec=two_color_filter,\n",
    "        extensions=ext,\n",
    "    )\n",
    ")"
   ]
  },
  {
   "cell_type": "markdown",
   "id": "7bfa3ca8-f82b-46b8-91b8-eac4864fc662",
   "metadata": {},
   "source": [
    "The metagame share is also important. Polars provides for in-column aggregations that are broadcast back to the row level, which will allow us to do this easily."
   ]
  },
  {
   "cell_type": "code",
   "execution_count": 5,
   "id": "1945adf3-4851-4369-b434-58cec2a06b42",
   "metadata": {},
   "outputs": [
    {
     "name": "stdout",
     "output_type": "stream",
     "text": [
      "shape: (10, 5)\n",
      "┌─────────────┬─────────┬───────────┬──────────┬────────────────┐\n",
      "│ main_colors ┆ num_won ┆ num_games ┆ game_wr  ┆ metagame_share │\n",
      "│ ---         ┆ ---     ┆ ---       ┆ ---      ┆ ---            │\n",
      "│ str         ┆ u32     ┆ u32       ┆ f64      ┆ f64            │\n",
      "╞═════════════╪═════════╪═══════════╪══════════╪════════════════╡\n",
      "│ BG          ┆ 9587    ┆ 15624     ┆ 0.613607 ┆ 0.085397       │\n",
      "│ BR          ┆ 11486   ┆ 18595     ┆ 0.617693 ┆ 0.101635       │\n",
      "│ RG          ┆ 16179   ┆ 26464     ┆ 0.611359 ┆ 0.144645       │\n",
      "│ UB          ┆ 4104    ┆ 6945      ┆ 0.590929 ┆ 0.03796        │\n",
      "│ UG          ┆ 16478   ┆ 26363     ┆ 0.625043 ┆ 0.144093       │\n",
      "│ UR          ┆ 6821    ┆ 11537     ┆ 0.591228 ┆ 0.063058       │\n",
      "│ WB          ┆ 5632    ┆ 9460      ┆ 0.595349 ┆ 0.051706       │\n",
      "│ WG          ┆ 4287    ┆ 7219      ┆ 0.59385  ┆ 0.039457       │\n",
      "│ WR          ┆ 18239   ┆ 28903     ┆ 0.631042 ┆ 0.157976       │\n",
      "│ WU          ┆ 20165   ┆ 31848     ┆ 0.633164 ┆ 0.174073       │\n",
      "└─────────────┴─────────┴───────────┴──────────┴────────────────┘\n"
     ]
    }
   ],
   "source": [
    "ext = {\n",
    "    \"num_games_total\": ColSpec(col_type=ColType.AGG, expr=pl.col(\"num_games\").sum()),\n",
    "    \"metagame_share\": ColSpec(\n",
    "        col_type=ColType.AGG, expr=pl.col(\"num_games\") / pl.col(\"num_games_total\")\n",
    "    ),\n",
    "}\n",
    "\n",
    "print(\n",
    "    summon(\n",
    "        \"DSK\",\n",
    "        columns=[ColName.NUM_WON, ColName.NUM_GAMES, ColName.GAME_WR, \"metagame_share\"],\n",
    "        group_by=[ColName.MAIN_COLORS],\n",
    "        filter_spec=two_color_filter,\n",
    "        extensions=ext,\n",
    "    )\n",
    ")"
   ]
  },
  {
   "cell_type": "markdown",
   "id": "a12da7e0-ffbe-4ed0-9fee-960b332d0404",
   "metadata": {},
   "source": [
    "Let's look at the wr and metagame evolution for one color pair over the format. This is the subject of a nice two-dimensional line chart that you'll have to figure out how to make."
   ]
  },
  {
   "cell_type": "code",
   "execution_count": 7,
   "id": "4d700219-d655-4234-8732-3f65490cf188",
   "metadata": {},
   "outputs": [
    {
     "name": "stdout",
     "output_type": "stream",
     "text": [
      "shape: (5, 4)\n",
      "┌─────────────┬─────────────┬──────────┬────────────────┐\n",
      "│ main_colors ┆ format_week ┆ game_wr  ┆ metagame_share │\n",
      "│ ---         ┆ ---         ┆ ---      ┆ ---            │\n",
      "│ str         ┆ i64         ┆ f64      ┆ f64            │\n",
      "╞═════════════╪═════════════╪══════════╪════════════════╡\n",
      "│ WU          ┆ 1           ┆ 0.644531 ┆ 0.305451       │\n",
      "│ WU          ┆ 2           ┆ 0.631017 ┆ 0.247205       │\n",
      "│ WU          ┆ 3           ┆ 0.631833 ┆ 0.195303       │\n",
      "│ WU          ┆ 4           ┆ 0.624798 ┆ 0.136241       │\n",
      "│ WU          ┆ 5           ┆ 0.619848 ┆ 0.1158         │\n",
      "└─────────────┴─────────────┴──────────┴────────────────┘\n"
     ]
    }
   ],
   "source": [
    "print(\n",
    "    summon(\n",
    "        \"DSK\",\n",
    "        columns=[ColName.GAME_WR, \"metagame_share\"],\n",
    "        group_by=[ColName.MAIN_COLORS, ColName.FORMAT_WEEK],\n",
    "        filter_spec={\"$and\": [two_color_filter, {\"main_colors\": \"WU\"}]},\n",
    "        extensions=ext\n",
    "    )\n",
    ")"
   ]
  },
  {
   "cell_type": "code",
   "execution_count": null,
   "id": "fc288058-f9d7-41fe-8a0c-7999cf8115cd",
   "metadata": {},
   "outputs": [],
   "source": []
  }
 ],
 "metadata": {
  "kernelspec": {
   "display_name": "Python 3 (ipykernel)",
   "language": "python",
   "name": "python3"
  },
  "language_info": {
   "codemirror_mode": {
    "name": "ipython",
    "version": 3
   },
   "file_extension": ".py",
   "mimetype": "text/x-python",
   "name": "python",
   "nbconvert_exporter": "python",
   "pygments_lexer": "ipython3",
   "version": "3.13.1"
  }
 },
 "nbformat": 4,
 "nbformat_minor": 5
}
